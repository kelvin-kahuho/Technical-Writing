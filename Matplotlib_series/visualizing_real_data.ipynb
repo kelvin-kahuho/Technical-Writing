{
 "cells": [
  {
   "cell_type": "code",
   "execution_count": 216,
   "metadata": {},
   "outputs": [],
   "source": [
    "#Importing necessary libraries\n",
    "import pandas as pd\n",
    "import numpy as np\n",
    "import matplotlib.pyplot as plt"
   ]
  },
  {
   "cell_type": "code",
   "execution_count": 217,
   "metadata": {},
   "outputs": [
    {
     "data": {
      "text/html": [
       "<div>\n",
       "<style scoped>\n",
       "    .dataframe tbody tr th:only-of-type {\n",
       "        vertical-align: middle;\n",
       "    }\n",
       "\n",
       "    .dataframe tbody tr th {\n",
       "        vertical-align: top;\n",
       "    }\n",
       "\n",
       "    .dataframe thead th {\n",
       "        text-align: right;\n",
       "    }\n",
       "</style>\n",
       "<table border=\"1\" class=\"dataframe\">\n",
       "  <thead>\n",
       "    <tr style=\"text-align: right;\">\n",
       "      <th></th>\n",
       "      <th>brand</th>\n",
       "      <th>model</th>\n",
       "      <th>screen_size</th>\n",
       "      <th>color</th>\n",
       "      <th>harddisk</th>\n",
       "      <th>cpu</th>\n",
       "      <th>ram</th>\n",
       "      <th>OS</th>\n",
       "      <th>special_features</th>\n",
       "      <th>graphics</th>\n",
       "      <th>graphics_coprocessor</th>\n",
       "      <th>cpu_speed</th>\n",
       "      <th>rating</th>\n",
       "      <th>price</th>\n",
       "    </tr>\n",
       "  </thead>\n",
       "  <tbody>\n",
       "    <tr>\n",
       "      <th>0</th>\n",
       "      <td>ROKC</td>\n",
       "      <td>NaN</td>\n",
       "      <td>14 Inches</td>\n",
       "      <td>Blue</td>\n",
       "      <td>1000 GB</td>\n",
       "      <td>Intel Core i7</td>\n",
       "      <td>8 GB</td>\n",
       "      <td>Windows 11</td>\n",
       "      <td>NaN</td>\n",
       "      <td>Integrated</td>\n",
       "      <td>Intel</td>\n",
       "      <td>1.2 GHz</td>\n",
       "      <td>NaN</td>\n",
       "      <td>$589.99</td>\n",
       "    </tr>\n",
       "    <tr>\n",
       "      <th>1</th>\n",
       "      <td>HP</td>\n",
       "      <td>NaN</td>\n",
       "      <td>15.6 Inches</td>\n",
       "      <td>Silver</td>\n",
       "      <td>1000 GB</td>\n",
       "      <td>Intel Core i5</td>\n",
       "      <td>64 GB</td>\n",
       "      <td>Windows 11 Pro</td>\n",
       "      <td>Backlit Keyboard</td>\n",
       "      <td>Integrated</td>\n",
       "      <td>Intel</td>\n",
       "      <td>NaN</td>\n",
       "      <td>4.5</td>\n",
       "      <td>$999.99</td>\n",
       "    </tr>\n",
       "    <tr>\n",
       "      <th>2</th>\n",
       "      <td>MSI</td>\n",
       "      <td>Vector GP66 12UGS-267</td>\n",
       "      <td>15.66 Inches</td>\n",
       "      <td>Core Black</td>\n",
       "      <td>NaN</td>\n",
       "      <td>Intel Core i9</td>\n",
       "      <td>32 GB</td>\n",
       "      <td>Windows 11 Home</td>\n",
       "      <td>NaN</td>\n",
       "      <td>Dedicated</td>\n",
       "      <td>NaN</td>\n",
       "      <td>1.8 GHz</td>\n",
       "      <td>5.0</td>\n",
       "      <td>$1,599.00</td>\n",
       "    </tr>\n",
       "    <tr>\n",
       "      <th>3</th>\n",
       "      <td>Apple</td>\n",
       "      <td>MacBook Air</td>\n",
       "      <td>13.3 Inches</td>\n",
       "      <td>Silver</td>\n",
       "      <td>256 GB</td>\n",
       "      <td>Unknown</td>\n",
       "      <td>8 GB</td>\n",
       "      <td>Mac OS</td>\n",
       "      <td>Backlit Keyboard</td>\n",
       "      <td>Integrated</td>\n",
       "      <td>NaN</td>\n",
       "      <td>NaN</td>\n",
       "      <td>4.8</td>\n",
       "      <td>$689.99</td>\n",
       "    </tr>\n",
       "    <tr>\n",
       "      <th>4</th>\n",
       "      <td>Apple</td>\n",
       "      <td>MacBook Air</td>\n",
       "      <td>15.3 Inches</td>\n",
       "      <td>Midnight</td>\n",
       "      <td>256 GB</td>\n",
       "      <td>Unknown</td>\n",
       "      <td>8 GB</td>\n",
       "      <td>Mac OS</td>\n",
       "      <td>NaN</td>\n",
       "      <td>Integrated</td>\n",
       "      <td>NaN</td>\n",
       "      <td>NaN</td>\n",
       "      <td>4.8</td>\n",
       "      <td>$1,144.48</td>\n",
       "    </tr>\n",
       "    <tr>\n",
       "      <th>...</th>\n",
       "      <td>...</td>\n",
       "      <td>...</td>\n",
       "      <td>...</td>\n",
       "      <td>...</td>\n",
       "      <td>...</td>\n",
       "      <td>...</td>\n",
       "      <td>...</td>\n",
       "      <td>...</td>\n",
       "      <td>...</td>\n",
       "      <td>...</td>\n",
       "      <td>...</td>\n",
       "      <td>...</td>\n",
       "      <td>...</td>\n",
       "      <td>...</td>\n",
       "    </tr>\n",
       "    <tr>\n",
       "      <th>95</th>\n",
       "      <td>Apple</td>\n",
       "      <td>MacBook Pro</td>\n",
       "      <td>13 Inches</td>\n",
       "      <td>NaN</td>\n",
       "      <td>256 GB</td>\n",
       "      <td>Apple M1</td>\n",
       "      <td>16 GB</td>\n",
       "      <td>macOS 12 Monterey</td>\n",
       "      <td>NaN</td>\n",
       "      <td>Integrated</td>\n",
       "      <td>NaN</td>\n",
       "      <td>3.4 GHz</td>\n",
       "      <td>4.7</td>\n",
       "      <td>$1,457.99</td>\n",
       "    </tr>\n",
       "    <tr>\n",
       "      <th>96</th>\n",
       "      <td>HP</td>\n",
       "      <td>HP 15 scarlet red</td>\n",
       "      <td>15.6 Inches</td>\n",
       "      <td>Silver</td>\n",
       "      <td>1 TB</td>\n",
       "      <td>Celeron</td>\n",
       "      <td>16 GB</td>\n",
       "      <td>Windows 11 Home</td>\n",
       "      <td>NaN</td>\n",
       "      <td>Integrated</td>\n",
       "      <td>Intel UHD Graphics</td>\n",
       "      <td>NaN</td>\n",
       "      <td>4.3</td>\n",
       "      <td>$469.00</td>\n",
       "    </tr>\n",
       "    <tr>\n",
       "      <th>97</th>\n",
       "      <td>Carlisle FoodService Products</td>\n",
       "      <td>ASUS VivoBook L203</td>\n",
       "      <td>11.6 Inches</td>\n",
       "      <td>Black</td>\n",
       "      <td>64 GB</td>\n",
       "      <td>Celeron N4000</td>\n",
       "      <td>4 GB</td>\n",
       "      <td>Windows 10 S</td>\n",
       "      <td>NaN</td>\n",
       "      <td>Integrated</td>\n",
       "      <td>Intel UHD Graphics 600</td>\n",
       "      <td>NaN</td>\n",
       "      <td>4.2</td>\n",
       "      <td>$134.90</td>\n",
       "    </tr>\n",
       "    <tr>\n",
       "      <th>98</th>\n",
       "      <td>Gigabyte</td>\n",
       "      <td>G5 KF-E3US333SH</td>\n",
       "      <td>15.6 Inches</td>\n",
       "      <td>Black</td>\n",
       "      <td>512 GB</td>\n",
       "      <td>Core i5</td>\n",
       "      <td>8 GB</td>\n",
       "      <td>Windows 11 Home</td>\n",
       "      <td>NaN</td>\n",
       "      <td>Dedicated</td>\n",
       "      <td>NVIDIA GeForce RTX 4060</td>\n",
       "      <td>NaN</td>\n",
       "      <td>4.0</td>\n",
       "      <td>$879.99</td>\n",
       "    </tr>\n",
       "    <tr>\n",
       "      <th>99</th>\n",
       "      <td>ASUS</td>\n",
       "      <td>Vivobook 15X</td>\n",
       "      <td>15.6 Inches</td>\n",
       "      <td>Indie Black</td>\n",
       "      <td>1 TB</td>\n",
       "      <td>Ryzen 7</td>\n",
       "      <td>16 GB</td>\n",
       "      <td>Windows 11 Home</td>\n",
       "      <td>NaN</td>\n",
       "      <td>Integrated</td>\n",
       "      <td>AMD Radeon Graphics</td>\n",
       "      <td>NaN</td>\n",
       "      <td>5.0</td>\n",
       "      <td>$749.99</td>\n",
       "    </tr>\n",
       "  </tbody>\n",
       "</table>\n",
       "<p>100 rows × 14 columns</p>\n",
       "</div>"
      ],
      "text/plain": [
       "                            brand                  model   screen_size  \\\n",
       "0                            ROKC                    NaN     14 Inches   \n",
       "1                              HP                    NaN   15.6 Inches   \n",
       "2                             MSI  Vector GP66 12UGS-267  15.66 Inches   \n",
       "3                           Apple            MacBook Air   13.3 Inches   \n",
       "4                           Apple            MacBook Air   15.3 Inches   \n",
       "..                            ...                    ...           ...   \n",
       "95                          Apple            MacBook Pro     13 Inches   \n",
       "96                             HP      HP 15 scarlet red   15.6 Inches   \n",
       "97  Carlisle FoodService Products     ASUS VivoBook L203   11.6 Inches   \n",
       "98                       Gigabyte        G5 KF-E3US333SH   15.6 Inches   \n",
       "99                           ASUS           Vivobook 15X   15.6 Inches   \n",
       "\n",
       "          color harddisk            cpu    ram                 OS  \\\n",
       "0          Blue  1000 GB  Intel Core i7   8 GB         Windows 11   \n",
       "1        Silver  1000 GB  Intel Core i5  64 GB     Windows 11 Pro   \n",
       "2    Core Black      NaN  Intel Core i9  32 GB    Windows 11 Home   \n",
       "3        Silver   256 GB        Unknown   8 GB             Mac OS   \n",
       "4      Midnight   256 GB        Unknown   8 GB             Mac OS   \n",
       "..          ...      ...            ...    ...                ...   \n",
       "95          NaN   256 GB       Apple M1  16 GB  macOS 12 Monterey   \n",
       "96       Silver     1 TB        Celeron  16 GB    Windows 11 Home   \n",
       "97        Black    64 GB  Celeron N4000   4 GB       Windows 10 S   \n",
       "98        Black   512 GB        Core i5   8 GB    Windows 11 Home   \n",
       "99  Indie Black     1 TB        Ryzen 7  16 GB    Windows 11 Home   \n",
       "\n",
       "    special_features    graphics     graphics_coprocessor cpu_speed  rating  \\\n",
       "0                NaN  Integrated                    Intel   1.2 GHz     NaN   \n",
       "1   Backlit Keyboard  Integrated                    Intel       NaN     4.5   \n",
       "2                NaN   Dedicated                      NaN   1.8 GHz     5.0   \n",
       "3   Backlit Keyboard  Integrated                      NaN       NaN     4.8   \n",
       "4                NaN  Integrated                      NaN       NaN     4.8   \n",
       "..               ...         ...                      ...       ...     ...   \n",
       "95               NaN  Integrated                      NaN   3.4 GHz     4.7   \n",
       "96               NaN  Integrated       Intel UHD Graphics       NaN     4.3   \n",
       "97               NaN  Integrated   Intel UHD Graphics 600       NaN     4.2   \n",
       "98               NaN   Dedicated  NVIDIA GeForce RTX 4060       NaN     4.0   \n",
       "99               NaN  Integrated      AMD Radeon Graphics       NaN     5.0   \n",
       "\n",
       "         price  \n",
       "0     $589.99   \n",
       "1     $999.99   \n",
       "2   $1,599.00   \n",
       "3     $689.99   \n",
       "4   $1,144.48   \n",
       "..         ...  \n",
       "95  $1,457.99   \n",
       "96    $469.00   \n",
       "97    $134.90   \n",
       "98    $879.99   \n",
       "99    $749.99   \n",
       "\n",
       "[100 rows x 14 columns]"
      ]
     },
     "execution_count": 217,
     "metadata": {},
     "output_type": "execute_result"
    }
   ],
   "source": [
    "#Import data\n",
    "data = pd.read_csv(\"data.csv\")\n",
    "data.head(100)"
   ]
  },
  {
   "cell_type": "code",
   "execution_count": 218,
   "metadata": {},
   "outputs": [
    {
     "name": "stdout",
     "output_type": "stream",
     "text": [
      "<class 'pandas.core.frame.DataFrame'>\n",
      "RangeIndex: 4446 entries, 0 to 4445\n",
      "Data columns (total 14 columns):\n",
      " #   Column                Non-Null Count  Dtype  \n",
      "---  ------                --------------  -----  \n",
      " 0   brand                 4446 non-null   object \n",
      " 1   model                 3282 non-null   object \n",
      " 2   screen_size           4417 non-null   object \n",
      " 3   color                 3867 non-null   object \n",
      " 4   harddisk              3870 non-null   object \n",
      " 5   cpu                   4346 non-null   object \n",
      " 6   ram                   4385 non-null   object \n",
      " 7   OS                    4420 non-null   object \n",
      " 8   special_features      2054 non-null   object \n",
      " 9   graphics              4381 non-null   object \n",
      " 10  graphics_coprocessor  2574 non-null   object \n",
      " 11  cpu_speed             1520 non-null   object \n",
      " 12  rating                2174 non-null   float64\n",
      " 13  price                 4441 non-null   object \n",
      "dtypes: float64(1), object(13)\n",
      "memory usage: 486.4+ KB\n"
     ]
    }
   ],
   "source": [
    "# A summary of the data\n",
    "\n",
    "data.info()"
   ]
  },
  {
   "cell_type": "code",
   "execution_count": 219,
   "metadata": {},
   "outputs": [
    {
     "data": {
      "text/plain": [
       "(4446, 14)"
      ]
     },
     "execution_count": 219,
     "metadata": {},
     "output_type": "execute_result"
    }
   ],
   "source": [
    "data.shape"
   ]
  },
  {
   "cell_type": "code",
   "execution_count": 220,
   "metadata": {},
   "outputs": [],
   "source": [
    "#Instead of using the original dataset, I decided to use a copy of the original\n",
    "data1 = data.copy()"
   ]
  },
  {
   "cell_type": "markdown",
   "metadata": {},
   "source": [
    "# Data Preprocessing\n",
    "\n",
    "Cleaning data is a crucial step in the data analysis process, especially when you're preparing data for visualization.\n",
    "\n",
    "## Handling Missing values\n",
    "\n",
    "There are 3 ways to handle missing values\n",
    "1. Removing columns with missing values\n",
    "2. Impute missing value with mean, median, or mode\n",
    "3. Using forward fill or backward fill for time-series data"
   ]
  },
  {
   "cell_type": "code",
   "execution_count": 221,
   "metadata": {},
   "outputs": [
    {
     "data": {
      "text/plain": [
       "Index(['model', 'screen_size', 'color', 'harddisk', 'cpu', 'ram', 'OS',\n",
       "       'special_features', 'graphics', 'graphics_coprocessor', 'cpu_speed',\n",
       "       'rating', 'price'],\n",
       "      dtype='object')"
      ]
     },
     "execution_count": 221,
     "metadata": {},
     "output_type": "execute_result"
    }
   ],
   "source": [
    "#Identify columns with missing values\n",
    "columns_with_missing_values = data1.columns[data1.isnull().any()]\n",
    "columns_with_missing_values"
   ]
  },
  {
   "cell_type": "markdown",
   "metadata": {},
   "source": [
    "# Approach 1 : Removing rows or columns with missing values"
   ]
  },
  {
   "cell_type": "code",
   "execution_count": 222,
   "metadata": {},
   "outputs": [
    {
     "name": "stdout",
     "output_type": "stream",
     "text": [
      "<class 'pandas.core.frame.DataFrame'>\n",
      "Int64Index: 0 entries\n",
      "Data columns (total 14 columns):\n",
      " #   Column                Non-Null Count  Dtype  \n",
      "---  ------                --------------  -----  \n",
      " 0   brand                 0 non-null      object \n",
      " 1   model                 0 non-null      object \n",
      " 2   screen_size           0 non-null      object \n",
      " 3   color                 0 non-null      object \n",
      " 4   harddisk              0 non-null      object \n",
      " 5   cpu                   0 non-null      object \n",
      " 6   ram                   0 non-null      object \n",
      " 7   OS                    0 non-null      object \n",
      " 8   special_features      0 non-null      object \n",
      " 9   graphics              0 non-null      object \n",
      " 10  graphics_coprocessor  0 non-null      object \n",
      " 11  cpu_speed             0 non-null      object \n",
      " 12  rating                0 non-null      float64\n",
      " 13  price                 0 non-null      object \n",
      "dtypes: float64(1), object(13)\n",
      "memory usage: 0.0+ bytes\n"
     ]
    }
   ],
   "source": [
    "data1 = data1.dropna()\n",
    "data1.info()"
   ]
  },
  {
   "cell_type": "markdown",
   "metadata": {},
   "source": [
    "This method is not effective because most all columns have missing values thus removed all data. \n",
    "What we can do is remove several columns that have many null values"
   ]
  },
  {
   "cell_type": "code",
   "execution_count": 223,
   "metadata": {},
   "outputs": [
    {
     "name": "stdout",
     "output_type": "stream",
     "text": [
      "<class 'pandas.core.frame.DataFrame'>\n",
      "RangeIndex: 4446 entries, 0 to 4445\n",
      "Data columns (total 10 columns):\n",
      " #   Column       Non-Null Count  Dtype \n",
      "---  ------       --------------  ----- \n",
      " 0   brand        4446 non-null   object\n",
      " 1   model        3282 non-null   object\n",
      " 2   screen_size  4417 non-null   object\n",
      " 3   color        3867 non-null   object\n",
      " 4   harddisk     3870 non-null   object\n",
      " 5   cpu          4346 non-null   object\n",
      " 6   ram          4385 non-null   object\n",
      " 7   OS           4420 non-null   object\n",
      " 8   graphics     4381 non-null   object\n",
      " 9   price        4441 non-null   object\n",
      "dtypes: object(10)\n",
      "memory usage: 347.5+ KB\n"
     ]
    }
   ],
   "source": [
    "data2 = data.copy()\n",
    "\n",
    "\n",
    "# Dropping columns with many null values\n",
    "\n",
    "data2 = data2.drop(['rating','cpu_speed', 'special_features', 'graphics_coprocessor'], axis=1)\n",
    "data2.info()"
   ]
  },
  {
   "cell_type": "markdown",
   "metadata": {},
   "source": [
    "# Approach 2 : Impute missing values with mean, median, or mode"
   ]
  },
  {
   "cell_type": "code",
   "execution_count": 224,
   "metadata": {},
   "outputs": [
    {
     "data": {
      "text/html": [
       "<div>\n",
       "<style scoped>\n",
       "    .dataframe tbody tr th:only-of-type {\n",
       "        vertical-align: middle;\n",
       "    }\n",
       "\n",
       "    .dataframe tbody tr th {\n",
       "        vertical-align: top;\n",
       "    }\n",
       "\n",
       "    .dataframe thead th {\n",
       "        text-align: right;\n",
       "    }\n",
       "</style>\n",
       "<table border=\"1\" class=\"dataframe\">\n",
       "  <thead>\n",
       "    <tr style=\"text-align: right;\">\n",
       "      <th></th>\n",
       "    </tr>\n",
       "  </thead>\n",
       "  <tbody>\n",
       "    <tr>\n",
       "      <th>0</th>\n",
       "    </tr>\n",
       "    <tr>\n",
       "      <th>1</th>\n",
       "    </tr>\n",
       "    <tr>\n",
       "      <th>2</th>\n",
       "    </tr>\n",
       "    <tr>\n",
       "      <th>3</th>\n",
       "    </tr>\n",
       "    <tr>\n",
       "      <th>4</th>\n",
       "    </tr>\n",
       "  </tbody>\n",
       "</table>\n",
       "</div>"
      ],
      "text/plain": [
       "Empty DataFrame\n",
       "Columns: []\n",
       "Index: [0, 1, 2, 3, 4]"
      ]
     },
     "execution_count": 224,
     "metadata": {},
     "output_type": "execute_result"
    }
   ],
   "source": [
    "#Find numeric values from the dataset. \n",
    "#In our case, the only numeric dataset is the key\n",
    "#This means that even the price is not numeric\n",
    "\n",
    "numeric_columns = data2.select_dtypes(include=int)\n",
    "numeric_columns.head()\n"
   ]
  },
  {
   "cell_type": "markdown",
   "metadata": {},
   "source": [
    "Counting the frequency of brand, creating a piechart using that data\n"
   ]
  },
  {
   "cell_type": "code",
   "execution_count": 247,
   "metadata": {},
   "outputs": [
    {
     "data": {
      "image/png": "[encoded data removed]",
      "text/plain": [
       "<Figure size 640x480 with 1 Axes>"
      ]
     },
     "metadata": {},
     "output_type": "display_data"
    }
   ],
   "source": [
    "brand_counts = data2['brand'].value_counts()\n",
    "\n",
    "# Creating a dataframe from this information\n",
    "brand_counts_df = pd.DataFrame({'Brand': brand_counts.index,\n",
    "                                'Count': brand_counts.values})\n",
    "\n",
    "# Sort the df in a descending order\n",
    "brand_counts_df = brand_counts_df.sort_values(by='Count', ascending=False)\n",
    "\n",
    "# Plotting a bar chart using this information\n",
    "\n",
    "plt.bar(brand_counts_df['Brand'].head(10), brand_counts_df['Count'].head(10))\n",
    "plt.xlabel('Brand')\n",
    "plt.ylabel('Count')\n",
    "plt.title('Laptop Brands Count')\n",
    "plt.show()"
   ]
  },
  {
   "cell_type": "code",
   "execution_count": null,
   "metadata": {},
   "outputs": [],
   "source": [
    "brand_counts = data2['brand'].isnull().value_counts()\n",
    "brand_counts"
   ]
  },
  {
   "cell_type": "markdown",
   "metadata": {},
   "source": [
    "There is no null type for the brand column"
   ]
  },
  {
   "cell_type": "code",
   "execution_count": 241,
   "metadata": {},
   "outputs": [
    {
     "name": "stdout",
     "output_type": "stream",
     "text": [
      "<class 'pandas.core.frame.DataFrame'>\n",
      "RangeIndex: 4446 entries, 0 to 4445\n",
      "Data columns (total 10 columns):\n",
      " #   Column       Non-Null Count  Dtype \n",
      "---  ------       --------------  ----- \n",
      " 0   brand        4446 non-null   object\n",
      " 1   model        3282 non-null   object\n",
      " 2   screen_size  4417 non-null   object\n",
      " 3   color        3867 non-null   object\n",
      " 4   harddisk     3870 non-null   object\n",
      " 5   cpu          4346 non-null   object\n",
      " 6   ram          4385 non-null   object\n",
      " 7   OS           4420 non-null   object\n",
      " 8   graphics     4381 non-null   object\n",
      " 9   price        4441 non-null   object\n",
      "dtypes: object(10)\n",
      "memory usage: 347.5+ KB\n"
     ]
    }
   ],
   "source": [
    "# We can replace missing values with dell\n",
    "\n",
    "data2.info()"
   ]
  },
  {
   "cell_type": "code",
   "execution_count": 235,
   "metadata": {},
   "outputs": [
    {
     "data": {
      "text/plain": [
       "0       False\n",
       "1       False\n",
       "2       False\n",
       "3       False\n",
       "4       False\n",
       "        ...  \n",
       "4441    False\n",
       "4442    False\n",
       "4443    False\n",
       "4444    False\n",
       "4445    False\n",
       "Name: cpu, Length: 4446, dtype: bool"
      ]
     },
     "execution_count": 235,
     "metadata": {},
     "output_type": "execute_result"
    }
   ],
   "source": [
    "null_values = data2['cpu'].isnull()"
   ]
  },
  {
   "cell_type": "code",
   "execution_count": 153,
   "metadata": {},
   "outputs": [
    {
     "data": {
      "text/html": [
       "<div>\n",
       "<style scoped>\n",
       "    .dataframe tbody tr th:only-of-type {\n",
       "        vertical-align: middle;\n",
       "    }\n",
       "\n",
       "    .dataframe tbody tr th {\n",
       "        vertical-align: top;\n",
       "    }\n",
       "\n",
       "    .dataframe thead th {\n",
       "        text-align: right;\n",
       "    }\n",
       "</style>\n",
       "<table border=\"1\" class=\"dataframe\">\n",
       "  <thead>\n",
       "    <tr style=\"text-align: right;\">\n",
       "      <th></th>\n",
       "      <th>A</th>\n",
       "      <th>B</th>\n",
       "    </tr>\n",
       "  </thead>\n",
       "  <tbody>\n",
       "    <tr>\n",
       "      <th>0</th>\n",
       "      <td>1.0</td>\n",
       "      <td>8.0</td>\n",
       "    </tr>\n",
       "    <tr>\n",
       "      <th>1</th>\n",
       "      <td>2.0</td>\n",
       "      <td>NaN</td>\n",
       "    </tr>\n",
       "    <tr>\n",
       "      <th>2</th>\n",
       "      <td>3.0</td>\n",
       "      <td>10.0</td>\n",
       "    </tr>\n",
       "    <tr>\n",
       "      <th>3</th>\n",
       "      <td>NaN</td>\n",
       "      <td>11.0</td>\n",
       "    </tr>\n",
       "    <tr>\n",
       "      <th>4</th>\n",
       "      <td>5.0</td>\n",
       "      <td>12.0</td>\n",
       "    </tr>\n",
       "    <tr>\n",
       "      <th>5</th>\n",
       "      <td>6.0</td>\n",
       "      <td>13.0</td>\n",
       "    </tr>\n",
       "    <tr>\n",
       "      <th>6</th>\n",
       "      <td>NaN</td>\n",
       "      <td>NaN</td>\n",
       "    </tr>\n",
       "  </tbody>\n",
       "</table>\n",
       "</div>"
      ],
      "text/plain": [
       "     A     B\n",
       "0  1.0   8.0\n",
       "1  2.0   NaN\n",
       "2  3.0  10.0\n",
       "3  NaN  11.0\n",
       "4  5.0  12.0\n",
       "5  6.0  13.0\n",
       "6  NaN   NaN"
      ]
     },
     "execution_count": 153,
     "metadata": {},
     "output_type": "execute_result"
    }
   ],
   "source": [
    "datas = {\n",
    "  'A':[1,2,3,np.nan,5,6,np.nan],\n",
    "  'B':[8,np.nan,10,11,12,13,np.nan]\n",
    "}\n",
    "\n",
    "datas = pd.DataFrame(data)\n",
    "datas"
   ]
  },
  {
   "cell_type": "code",
   "execution_count": 163,
   "metadata": {},
   "outputs": [
    {
     "data": {
      "text/html": [
       "<div>\n",
       "<style scoped>\n",
       "    .dataframe tbody tr th:only-of-type {\n",
       "        vertical-align: middle;\n",
       "    }\n",
       "\n",
       "    .dataframe tbody tr th {\n",
       "        vertical-align: top;\n",
       "    }\n",
       "\n",
       "    .dataframe thead th {\n",
       "        text-align: right;\n",
       "    }\n",
       "</style>\n",
       "<table border=\"1\" class=\"dataframe\">\n",
       "  <thead>\n",
       "    <tr style=\"text-align: right;\">\n",
       "      <th></th>\n",
       "      <th>A</th>\n",
       "      <th>B</th>\n",
       "    </tr>\n",
       "  </thead>\n",
       "  <tbody>\n",
       "    <tr>\n",
       "      <th>0</th>\n",
       "      <td>1.0</td>\n",
       "      <td>8.0</td>\n",
       "    </tr>\n",
       "    <tr>\n",
       "      <th>2</th>\n",
       "      <td>3.0</td>\n",
       "      <td>10.0</td>\n",
       "    </tr>\n",
       "    <tr>\n",
       "      <th>4</th>\n",
       "      <td>5.0</td>\n",
       "      <td>12.0</td>\n",
       "    </tr>\n",
       "    <tr>\n",
       "      <th>5</th>\n",
       "      <td>6.0</td>\n",
       "      <td>13.0</td>\n",
       "    </tr>\n",
       "  </tbody>\n",
       "</table>\n",
       "</div>"
      ],
      "text/plain": [
       "     A     B\n",
       "0  1.0   8.0\n",
       "2  3.0  10.0\n",
       "4  5.0  12.0\n",
       "5  6.0  13.0"
      ]
     },
     "execution_count": 163,
     "metadata": {},
     "output_type": "execute_result"
    }
   ],
   "source": [
    "datas = datas.dropna()\n",
    "datas"
   ]
  }
 ],
 "metadata": {
  "kernelspec": {
   "display_name": "Python 3",
   "language": "python",
   "name": "python3"
  },
  "language_info": {
   "codemirror_mode": {
    "name": "ipython",
    "version": 3
   },
   "file_extension": ".py",
   "mimetype": "text/x-python",
   "name": "python",
   "nbconvert_exporter": "python",
   "pygments_lexer": "ipython3",
   "version": "3.11.5"
  },
  "orig_nbformat": 4
 },
 "nbformat": 4,
 "nbformat_minor": 2
}
